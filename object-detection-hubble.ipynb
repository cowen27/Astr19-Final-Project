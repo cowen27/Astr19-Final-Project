{
 "cells": [
  {
   "cell_type": "code",
   "execution_count": null,
   "id": "5e0b1da5",
   "metadata": {},
   "outputs": [],
   "source": [
    "import numpy as np\n",
    "import sep"
   ]
  },
  {
   "cell_type": "code",
   "execution_count": null,
   "id": "73f2b90b",
   "metadata": {},
   "outputs": [],
   "source": [
    "from astropy.io import fits\n",
    "import matplotlib.pyplot as plt\n",
    "from matplotlib import rcParams\n",
    "\n",
    "%matplotlib inline\n",
    "\n",
    "rcParams['figure.figsize'] = [10., 8.]"
   ]
  },
  {
   "cell_type": "markdown",
   "id": "2d186fe3",
   "metadata": {},
   "source": [
    "### Read image into standard 2-d numpy array"
   ]
  },
  {
   "cell_type": "code",
   "execution_count": null,
   "id": "9969bdbc",
   "metadata": {},
   "outputs": [],
   "source": [
    "data = fits.getdata('hlsp_hudf12_hst_wfc3ir_udfmain_f105w_v1.0_drz.fits')\n",
    "data = data.byteswap().newbyteorder()"
   ]
  },
  {
   "cell_type": "markdown",
   "id": "bff92e9d",
   "metadata": {},
   "source": [
    "### Show the original image"
   ]
  },
  {
   "cell_type": "code",
   "execution_count": null,
   "id": "233ccdd6",
   "metadata": {},
   "outputs": [],
   "source": [
    "m, s = np.mean(data), np.std(data)\n",
    "plt.imshow(data, interpolation='nearest', cmap='gray', vmin=m-s, vmax=m+s, origin='lower')\n",
    "plt.colorbar();\n",
    "plt.savefig('hubble-image.png')"
   ]
  },
  {
   "cell_type": "markdown",
   "id": "a930a128",
   "metadata": {},
   "source": [
    "### Background work"
   ]
  },
  {
   "cell_type": "markdown",
   "id": "7635d307",
   "metadata": {},
   "source": [
    "Measure a spatially varying background on the image"
   ]
  },
  {
   "cell_type": "code",
   "execution_count": null,
   "id": "e3e5d135",
   "metadata": {},
   "outputs": [],
   "source": [
    "bkg = sep.Background(data)"
   ]
  },
  {
   "cell_type": "markdown",
   "id": "765bc04a",
   "metadata": {},
   "source": [
    "Evaluate background as 2-d array, same size as original image"
   ]
  },
  {
   "cell_type": "code",
   "execution_count": null,
   "id": "73829d02",
   "metadata": {},
   "outputs": [],
   "source": [
    "bkg_image = bkg.back()"
   ]
  },
  {
   "cell_type": "markdown",
   "id": "ef18241f",
   "metadata": {},
   "source": [
    "Show the background"
   ]
  },
  {
   "cell_type": "code",
   "execution_count": null,
   "id": "30c3fe11",
   "metadata": {},
   "outputs": [],
   "source": [
    "plt.imshow(bkg_image, interpolation='nearest', cmap='gray', origin='lower')\n",
    "plt.colorbar();\n",
    "plt.savefig('hubble-background-image.png')"
   ]
  },
  {
   "cell_type": "markdown",
   "id": "77bc40ad",
   "metadata": {},
   "source": [
    "Evaluate the background noise as a 2-d array, same size as original image"
   ]
  },
  {
   "cell_type": "code",
   "execution_count": null,
   "id": "226b20cb",
   "metadata": {},
   "outputs": [],
   "source": [
    "bkg_rms = bkg.rms()"
   ]
  },
  {
   "cell_type": "markdown",
   "id": "87b5558b",
   "metadata": {},
   "source": [
    "Show the background noise"
   ]
  },
  {
   "cell_type": "code",
   "execution_count": null,
   "id": "d96688ac",
   "metadata": {},
   "outputs": [],
   "source": [
    "plt.imshow(bkg_rms, interpolation='nearest', cmap='gray', origin='lower')\n",
    "plt.colorbar();\n",
    "plt.savefig('hubble-background-noise.png')"
   ]
  },
  {
   "cell_type": "markdown",
   "id": "8b6f219a",
   "metadata": {},
   "source": [
    "Subtract the background"
   ]
  },
  {
   "cell_type": "code",
   "execution_count": null,
   "id": "3feb10bd",
   "metadata": {},
   "outputs": [],
   "source": [
    "data_sub = data - bkg"
   ]
  },
  {
   "cell_type": "markdown",
   "id": "5980b378",
   "metadata": {},
   "source": [
    "### Detecting objects in image"
   ]
  },
  {
   "cell_type": "code",
   "execution_count": null,
   "id": "ba9783e6",
   "metadata": {},
   "outputs": [],
   "source": [
    "objects = sep.extract(data_sub, 1.5, err=bkg.globalrms)"
   ]
  },
  {
   "cell_type": "markdown",
   "id": "131f332a",
   "metadata": {},
   "source": [
    "Plotting where each object is detected in the image"
   ]
  },
  {
   "cell_type": "code",
   "execution_count": null,
   "id": "0c83a969",
   "metadata": {},
   "outputs": [],
   "source": [
    "from matplotlib.patches import Ellipse\n",
    "\n",
    "# plot background-subtracted image\n",
    "fig, ax = plt.subplots()\n",
    "m, s = np.mean(data_sub), np.std(data_sub)\n",
    "im = ax.imshow(data_sub, interpolation='nearest', cmap='gray', vmin=m-s, vmax=m+s, origin='lower')\n",
    "\n",
    "max_l = 0\n",
    "\n",
    "# plot an ellipse for each object\n",
    "for i in range(len(objects)):\n",
    "    e = Ellipse(xy=(objects['x'][i], objects['y'][i]),\n",
    "               width=6*objects['a'][i],\n",
    "               height=6*objects['b'][i],\n",
    "               angle=objects['theta'][i] * 180. / np.pi)\n",
    "    e.set_facecolor('none')\n",
    "    e.set_edgecolor('red')\n",
    "    ax.add_artist(e)\n",
    "    if objects['npix'][i] > objects['npix'][max_l]:\n",
    "        max_l = i\n",
    "\n",
    "plt.savefig('hubble-detected-objects.png')"
   ]
  },
  {
   "cell_type": "markdown",
   "id": "b303b711",
   "metadata": {},
   "source": [
    "### Obtaining fluxes from objects in image"
   ]
  },
  {
   "cell_type": "code",
   "execution_count": null,
   "id": "2ed9cd84",
   "metadata": {},
   "outputs": [],
   "source": [
    "flux, fluxerr, flag = sep.sum_circle(data_sub, objects['x'], objects['y'],\n",
    "                                    3.0, err=bkg.globalrms, gain=1.0)"
   ]
  },
  {
   "cell_type": "code",
   "execution_count": null,
   "id": "7733ac0b",
   "metadata": {},
   "outputs": [],
   "source": [
    "print(f'Number of Sources Found: {len(objects)}')"
   ]
  },
  {
   "cell_type": "markdown",
   "id": "dbed2be4",
   "metadata": {},
   "source": [
    "Histogram fluxes"
   ]
  },
  {
   "cell_type": "code",
   "execution_count": null,
   "id": "d727ca24",
   "metadata": {
    "scrolled": false
   },
   "outputs": [],
   "source": [
    "fig, ax = plt.subplots(1, 1)\n",
    "counts, bins, bars = ax.hist(flux)\n",
    "ax.set_xlabel('Fluxes')\n",
    "ax.set_ylabel('Frequency')\n",
    "rects = ax.patches\n",
    "for i in range(len(rects)):\n",
    "    rect = rects[i]\n",
    "    count = int(counts[i])\n",
    "    if count != 0:\n",
    "        ax.text(rect.get_x(), rect.get_height() + 100, f'{count}')"
   ]
  },
  {
   "cell_type": "code",
   "execution_count": null,
   "id": "74723193",
   "metadata": {},
   "outputs": [],
   "source": [
    "mean, median, std = np.mean(flux), np.median(flux), np.std(flux)\n",
    "print(f'Mean: {mean}')\n",
    "print(f'Median: {median}')\n",
    "print(f'Standard Deviation: {std}')"
   ]
  },
  {
   "cell_type": "markdown",
   "id": "015aa0c4",
   "metadata": {},
   "source": [
    "The largest outlier had a flux of 0.8073, at the approximate coordinates (2069, 1340) and is about 87 standard deviations away from the mean."
   ]
  },
  {
   "cell_type": "code",
   "execution_count": null,
   "id": "1d0235eb",
   "metadata": {},
   "outputs": [],
   "source": [
    "fig, ax = plt.subplots()\n",
    "m, s = np.mean(data_sub), np.std(data_sub)\n",
    "im = ax.imshow(data_sub, interpolation='nearest', cmap='gray', vmin=m-s, vmax=m+s, origin='lower')\n",
    "e = Ellipse(xy=(objects['x'][max_l], objects['y'][max_l]),\n",
    "           width=6*objects['a'][max_l],\n",
    "           height=6*objects['b'][max_l],\n",
    "           angle=objects['theta'][max_l] * 180. / np.pi)\n",
    "e.set_facecolor('none')\n",
    "e.set_edgecolor('red')\n",
    "ax.add_artist(e)"
   ]
  },
  {
   "cell_type": "code",
   "execution_count": null,
   "id": "238b3f56",
   "metadata": {},
   "outputs": [],
   "source": [
    "from astropy.visualization import make_lupton_rgb\n",
    "\n",
    "r = fits.getdata('hlsp_hudf12_hst_wfc3ir_udfmain_f160w_v1.0_drz.fits')\n",
    "g = fits.getdata('hlsp_hudf12_hst_wfc3ir_udfmain_f125w_v1.0_drz.fits')\n",
    "b = data\n",
    "image = make_lupton_rgb(r, g, b, Q=5, stretch=0.05, filename='test.png')\n",
    "plt.imshow(image, interpolation='nearest', vmin=m-s, vmax=m+s, origin='lower')\n",
    "plt.savefig('hubble-colored-image.png')"
   ]
  }
 ],
 "metadata": {
  "kernelspec": {
   "display_name": "Python 3 (ipykernel)",
   "language": "python",
   "name": "python3"
  },
  "language_info": {
   "codemirror_mode": {
    "name": "ipython",
    "version": 3
   },
   "file_extension": ".py",
   "mimetype": "text/x-python",
   "name": "python",
   "nbconvert_exporter": "python",
   "pygments_lexer": "ipython3",
   "version": "3.10.4"
  }
 },
 "nbformat": 4,
 "nbformat_minor": 5
}
